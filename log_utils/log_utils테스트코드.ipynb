{
  "nbformat": 4,
  "nbformat_minor": 0,
  "metadata": {
    "colab": {
      "name": "log_utils테스트코드.ipynb",
      "provenance": [],
      "collapsed_sections": []
    },
    "kernelspec": {
      "name": "python3",
      "display_name": "Python 3"
    },
    "language_info": {
      "name": "python"
    }
  },
  "cells": [
    {
      "cell_type": "code",
      "source": [
        "%%writefile app.py\n",
        "# 테스트 코드\n",
        "# 아래 코드를 로깅할 모듈의 최상단에 포함 시킨다.\n",
        "import logging\n",
        "from log_utils import logger_init\n",
        "logger = logging.getLogger(\"__main__\")\n",
        "\n",
        "logger.error(\"첫번째 로그 출력!\")\n",
        "logger.error(\"두번째 로그 출력!\")\n",
        "logger.error(\"세번째 로그 출력!\")\n",
        "logger.error(\"네번째 로그 출력!\")"
      ],
      "metadata": {
        "id": "bfOLD-YaeT56",
        "colab": {
          "base_uri": "https://localhost:8080/"
        },
        "outputId": "89fb8e52-4e45-4f93-f3da-7edc58740f91"
      },
      "execution_count": 46,
      "outputs": [
        {
          "output_type": "stream",
          "name": "stdout",
          "text": [
            "Overwriting app.py\n"
          ]
        }
      ]
    },
    {
      "cell_type": "code",
      "source": [
        "!python app.py"
      ],
      "metadata": {
        "id": "MtvVpYSBerKU",
        "colab": {
          "base_uri": "https://localhost:8080/"
        },
        "outputId": "a38c14f8-05a1-4beb-9b24-33eacd609569"
      },
      "execution_count": 47,
      "outputs": [
        {
          "output_type": "stream",
          "name": "stdout",
          "text": [
            "2022-04-09 13:25:55,291 - ERROR - __main__ - 첫번째 로그 출력!\n",
            "2022-04-09 13:25:55,291 - ERROR - __main__ - 두번째 로그 출력!\n",
            "2022-04-09 13:25:55,291 - ERROR - __main__ - 세번째 로그 출력!\n",
            "2022-04-09 13:25:55,291 - ERROR - __main__ - 네번째 로그 출력!\n"
          ]
        }
      ]
    },
    {
      "cell_type": "code",
      "source": [
        ""
      ],
      "metadata": {
        "id": "rthT4gZbbmk2"
      },
      "execution_count": null,
      "outputs": []
    }
  ]
}