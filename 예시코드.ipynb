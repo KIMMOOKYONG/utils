{
  "nbformat": 4,
  "nbformat_minor": 0,
  "metadata": {
    "colab": {
      "name": "예시코드.ipynb",
      "provenance": [],
      "collapsed_sections": [],
      "authorship_tag": "ABX9TyMIUgW+PGJsdED4PhNkCop5",
      "include_colab_link": true
    },
    "kernelspec": {
      "name": "python3",
      "display_name": "Python 3"
    },
    "language_info": {
      "name": "python"
    }
  },
  "cells": [
    {
      "cell_type": "markdown",
      "metadata": {
        "id": "view-in-github",
        "colab_type": "text"
      },
      "source": [
        "<a href=\"https://colab.research.google.com/github/KIMMOOKYONG/utils/blob/main/%EC%98%88%EC%8B%9C%EC%BD%94%EB%93%9C.ipynb\" target=\"_parent\"><img src=\"https://colab.research.google.com/assets/colab-badge.svg\" alt=\"Open In Colab\"/></a>"
      ]
    },
    {
      "cell_type": "code",
      "execution_count": null,
      "metadata": {
        "colab": {
          "base_uri": "https://localhost:8080/"
        },
        "id": "vJbd6Odc-drA",
        "outputId": "b313cc3b-be50-497d-c143-8d98f5db8b44"
      },
      "outputs": [
        {
          "output_type": "stream",
          "name": "stdout",
          "text": [
            "Cloning into 'utils'...\n",
            "remote: Enumerating objects: 42, done.\u001b[K\n",
            "remote: Counting objects: 100% (42/42), done.\u001b[K\n",
            "remote: Compressing objects: 100% (40/40), done.\u001b[K\n",
            "remote: Total 42 (delta 15), reused 0 (delta 0), pack-reused 0\u001b[K\n",
            "Unpacking objects: 100% (42/42), done.\n"
          ]
        }
      ],
      "source": [
        "!git clone https://github.com/KIMMOOKYONG/utils.git"
      ]
    },
    {
      "cell_type": "code",
      "source": [
        "mv ./utils/log_utils ./"
      ],
      "metadata": {
        "id": "gyNg_7y7_1pw"
      },
      "execution_count": null,
      "outputs": []
    },
    {
      "cell_type": "code",
      "source": [
        "rm -rf ./utils"
      ],
      "metadata": {
        "id": "HIIvulXr-rlx"
      },
      "execution_count": null,
      "outputs": []
    },
    {
      "cell_type": "code",
      "source": [
        "import logging\n",
        "import log_utils.logger_init"
      ],
      "metadata": {
        "id": "QxEXGxAe_H9p"
      },
      "execution_count": null,
      "outputs": []
    },
    {
      "cell_type": "code",
      "source": [
        "logger = logging.getLogger(\"__main__\")"
      ],
      "metadata": {
        "id": "O4dS9NwC_Nzw"
      },
      "execution_count": null,
      "outputs": []
    },
    {
      "cell_type": "code",
      "source": [
        "logger.warning(\"Woohoo I am Logging!\")\n",
        "logger.warning(\"Woohoo I am Logging!\")\n",
        "logger.warning(\"Woohoo I am Logging!\")\n",
        "logger.warning(\"Woohoo I am Logging!\")"
      ],
      "metadata": {
        "colab": {
          "base_uri": "https://localhost:8080/"
        },
        "id": "RBDq6UXG_Pfo",
        "outputId": "c3b23b95-16b8-4083-a778-0f144864d293"
      },
      "execution_count": null,
      "outputs": [
        {
          "output_type": "stream",
          "name": "stdout",
          "text": [
            "2022-04-08 07:07:50,989 - WARNING - __main__ - Woohoo I am Logging!\n",
            "2022-04-08 07:07:50,989 - WARNING - __main__ - Woohoo I am Logging!\n",
            "2022-04-08 07:07:50,989 - WARNING - __main__ - Woohoo I am Logging!\n",
            "2022-04-08 07:07:50,989 - WARNING - __main__ - Woohoo I am Logging!\n"
          ]
        }
      ]
    },
    {
      "cell_type": "code",
      "source": [
        ""
      ],
      "metadata": {
        "id": "X-byBoxm_QjA"
      },
      "execution_count": null,
      "outputs": []
    },
    {
      "cell_type": "code",
      "source": [
        ""
      ],
      "metadata": {
        "id": "MuaU4pxCA3fp"
      },
      "execution_count": null,
      "outputs": []
    }
  ]
}